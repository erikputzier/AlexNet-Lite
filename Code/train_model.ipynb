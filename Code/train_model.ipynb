{
 "cells": [
  {
   "cell_type": "code",
   "execution_count": 1,
   "metadata": {},
   "outputs": [
    {
     "name": "stdout",
     "output_type": "stream",
     "text": [
      "Found 30381 images belonging to 50 classes.\n",
      "Found 7558 images belonging to 50 classes.\n",
      "Found 9485 images belonging to 50 classes.\n"
     ]
    },
    {
     "name": "stderr",
     "output_type": "stream",
     "text": [
      "/opt/anaconda3/lib/python3.11/site-packages/keras/src/trainers/data_adapters/py_dataset_adapter.py:121: UserWarning: Your `PyDataset` class should call `super().__init__(**kwargs)` in its constructor. `**kwargs` can include `workers`, `use_multiprocessing`, `max_queue_size`. Do not pass these arguments to `fit()`, as they will be ignored.\n",
      "  self._warn_if_super_not_called()\n"
     ]
    },
    {
     "name": "stdout",
     "output_type": "stream",
     "text": [
      "\u001b[1m238/238\u001b[0m \u001b[32m━━━━━━━━━━━━━━━━━━━━\u001b[0m\u001b[37m\u001b[0m \u001b[1m345s\u001b[0m 1s/step - accuracy: 0.0223 - loss: 3.9048 - val_accuracy: 0.0397 - val_loss: 3.8347 - learning_rate: 0.0100\n",
      "\u001b[1m75/75\u001b[0m \u001b[32m━━━━━━━━━━━━━━━━━━━━\u001b[0m\u001b[37m\u001b[0m \u001b[1m34s\u001b[0m 449ms/step - accuracy: 0.0433 - loss: 3.8267\n",
      "Test Loss: 3.8219\n",
      "Test Accuracy: 0.0433\n"
     ]
    }
   ],
   "source": [
    "import tensorflow as tf\n",
    "import numpy as np\n",
    "from alexnet_model import AlexNet\n",
    "import matplotlib.pyplot as plt\n",
    "\n",
    "# Function to prepare data for training, validation, and testing\n",
    "def train_alexnet():\n",
    "    # Create data generators\n",
    "    train_data = tf.keras.preprocessing.image.ImageDataGenerator(\n",
    "        rescale=1./255,       # Normalize pixel values to the range [0,1]\n",
    "        validation_split=0.2  # Reserve 20% of training data for validation\n",
    "    )\n",
    "    \n",
    "    test_data = tf.keras.preprocessing.image.ImageDataGenerator(\n",
    "        rescale=1./255\n",
    "    )\n",
    "    \n",
    "    # Loading Training and Validation Data\n",
    "    train_generator = train_data.flow_from_directory(\n",
    "        '/Users/maximilianstumpf/Desktop/UCLA/Math156 - Machine Learning/Project/Data/Train',\n",
    "        batch_size=128,          # Number of images per batch\n",
    "        class_mode='categorical',  # One-hot encoding of labels\n",
    "        subset='training'         # Use the 80% training split\n",
    "    )\n",
    "    \n",
    "    validation_generator = train_data.flow_from_directory(\n",
    "        '/Users/maximilianstumpf/Desktop/UCLA/Math156 - Machine Learning/Project/Data/Train',\n",
    "        batch_size=128,\n",
    "        class_mode='categorical',\n",
    "        subset='validation'      # Use the 20% validation split\n",
    "    )\n",
    "    \n",
    "    # Loading Test Data\n",
    "    test_generator = test_data.flow_from_directory(\n",
    "        '/Users/maximilianstumpf/Desktop/UCLA/Math156 - Machine Learning/Project/Data/Test',\n",
    "        batch_size=128,\n",
    "        class_mode='categorical'\n",
    "    )\n",
    "    \n",
    "    # Create AlexNet Model\n",
    "    model = AlexNet(num_classes=50)\n",
    "    \n",
    "    # Optimizer (SGD)\n",
    "    optimizer = tf.keras.optimizers.SGD( \n",
    "        learning_rate=0.1,  # Initial learning rate\n",
    "        momentum=0.9,        # Accelerates convergence\n",
    "        nesterov=True\n",
    "    )\n",
    "    \n",
    "    # Compiling the model\n",
    "    model.compile(\n",
    "        optimizer=optimizer,\n",
    "        loss='categorical_crossentropy',  # Loss function\n",
    "        metrics=['accuracy']             # Track accuracy\n",
    "    )\n",
    "    \n",
    "    # Training the model\n",
    "    history = model.fit(\n",
    "        train_generator,\n",
    "        epochs=1,\n",
    "        validation_data=validation_generator,\n",
    "        callbacks=[\n",
    "            tf.keras.callbacks.LearningRateScheduler(\n",
    "                lambda epoch: 0.01 if epoch < 10 else (0.001 if epoch < 15 else 0.0001)  # Dynamic LR adjustment\n",
    "            ),\n",
    "            tf.keras.callbacks.ModelCheckpoint(\n",
    "                'alexnet_checkpoint.keras',  # Save checkpoints\n",
    "                save_best_only=True,\n",
    "                monitor='val_accuracy'\n",
    "            )\n",
    "        ]\n",
    "    )\n",
    "    \n",
    "    # Save final weights\n",
    "    model.save_weights('alexnet_final.weights.h5')\n",
    "    \n",
    "    # Evaluate on test data\n",
    "    test_loss, test_accuracy = model.evaluate(test_generator)\n",
    "    print(f\"Test Loss: {test_loss:.4f}\")\n",
    "    print(f\"Test Accuracy: {test_accuracy:.4f}\")\n",
    "    \n",
    "    return model, history\n",
    "\n",
    "# Run the training\n",
    "if __name__ == \"__main__\":\n",
    "    model, history = train_alexnet()\n"
   ]
  }
 ],
 "metadata": {
  "kernelspec": {
   "display_name": "base",
   "language": "python",
   "name": "python3"
  },
  "language_info": {
   "codemirror_mode": {
    "name": "ipython",
    "version": 3
   },
   "file_extension": ".py",
   "mimetype": "text/x-python",
   "name": "python",
   "nbconvert_exporter": "python",
   "pygments_lexer": "ipython3",
   "version": "3.11.7"
  }
 },
 "nbformat": 4,
 "nbformat_minor": 2
}
